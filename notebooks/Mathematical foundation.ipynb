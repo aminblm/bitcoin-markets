{
 "cells": [
  {
   "cell_type": "markdown",
   "id": "2c85c812",
   "metadata": {},
   "source": [
    "# Random Walk Hypothesis\n",
    "The Random Walk Hypothesis is a theory that states that stock market prices and other financial market prices are unpredictable, because they move randomly and without any pattern. This theory is relevant to predicting cryptocurrency prices because it suggests that trying to predict future prices based on past prices alone is unlikely to be successful.\n",
    "\n",
    "# Efficient Market Hypothesis\n",
    "The Efficient Market Hypothesis is a theory that states that financial markets are \"efficient,\" meaning that prices always reflect all available information about an asset, including both fundamental factors and investor beliefs and emotions. This theory is relevant to predicting cryptocurrency prices because it suggests that it is difficult to gain an edge in the market by using information that is not already priced in.\n",
    "\n",
    "# Moving Average\n",
    "A Moving Average is a mathematical formula that calculates the average of a series of prices over a specified period of time. This formula is commonly used in technical analysis of financial markets to smooth out short-term price fluctuations and identify long-term trends. Moving averages are relevant to predicting cryptocurrency prices because they can help identify trends and patterns in the data.\n",
    "\n",
    "# Relative Strength Index (RSI)\n",
    "The Relative Strength Index is a technical indicator that measures the strength and momentum of a market trend. The formula for RSI is:\n",
    "\n",
    "\\begin{equation}\n",
    "RSI = 100 - \\frac{100}{1 + RS},\n",
    "\\end{equation}\n",
    "\n",
    "where $RS$ is the average of the gains and losses over a specified period of time. RSI is relevant to predicting cryptocurrency prices because it can help identify overbought and oversold conditions, which can indicate potential market reversals.\n",
    "\n",
    "# Bollinger Bands\n",
    "Bollinger Bands are a technical indicator that consists of a moving average plus and minus a certain number of standard deviations. The formula for the upper band is:\n",
    "\n",
    "\\begin{equation}\n",
    "UpperBand = MA + (K * \\sigma),\n",
    "\\end{equation}\n",
    "\n",
    "where $MA$ is the moving average, $K$ is the number of standard deviations, and $\\sigma$ is the standard deviation of the price data. Bollinger Bands are relevant to predicting cryptocurrency prices because they can help identify potential support and resistance levels, as well as volatility.\n",
    "\n",
    "# Fibonacci Retracement\n",
    "Fibonacci Retracement is a technical analysis tool that uses horizontal lines to indicate areas of support or resistance at the key Fibonacci levels before the price continues in the original direction. The formula for the Fibonacci retracement levels are:\n",
    "\n",
    "\\begin{equation}\n",
    "38.2% = \\frac{(High - Low) * 0.382}{Low}\n",
    "\\end{equation}\n",
    "\n",
    "\\begin{equation}\n",
    "50% = \\frac{(High - Low) * 0.5}{Low}\n",
    "\\end{equation}\n",
    "\n",
    "\\begin{equation}\n",
    "61.8% = \\frac{(High - Low) * 0.618}{Low}\n",
    "\\end{equation}\n",
    "\n",
    "Fibonacci retracements are relevant to predicting cryptocurrency prices because they can help identify potential levels of support and resistance based on historical price movements.\n",
    "\n",
    "\n",
    "\n"
   ]
  }
 ],
 "metadata": {
  "kernelspec": {
   "display_name": "Python 3 (ipykernel)",
   "language": "python",
   "name": "python3"
  },
  "language_info": {
   "codemirror_mode": {
    "name": "ipython",
    "version": 3
   },
   "file_extension": ".py",
   "mimetype": "text/x-python",
   "name": "python",
   "nbconvert_exporter": "python",
   "pygments_lexer": "ipython3",
   "version": "3.9.7"
  }
 },
 "nbformat": 4,
 "nbformat_minor": 5
}
