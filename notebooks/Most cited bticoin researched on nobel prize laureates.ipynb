{
 "cells": [
  {
   "cell_type": "markdown",
   "id": "c33746f7",
   "metadata": {},
   "source": [
    "```\n",
    "1952, Markowitz's Portfolio Theory, Harry Markowitz\n",
    "1958, Modigliani and Miller's Capital Structure model, Franco Modigliani and Merton Miller\n",
    "1958, Modigliani-Miller theorem (MM), Franco Modigliani and Merton Miller\n",
    "1960s-1970s, Efficient Market Hypothesis (EMH), Eugene Fama\n",
    "1960s, Capital Asset Pricing Model (CAPM), William Sharpe, John Lintner, and Jan Mossin\n",
    "1961, Miller and Modigliani's Dividend Irrelevance Theory, Merton Miller and Franco Modigliani\n",
    "1970, Akerlof's Market for Lemons model, George Akerlof\n",
    "1970, Efficient Market Hypothesis (EMH), Eugene Fama\n",
    "1972, Rational Expectations Hypothesis, Robert Lucas Jr.\n",
    "1973, Black-Scholes Model, Fischer Black and Myron Scholes\n",
    "1973, Black-Scholes Option Pricing Model, Fischer Black and Myron Scholes\n",
    "1973, Merton Model, Robert Merton\n",
    "1974, Merton's Structural Credit Risk Model, Robert Merton\n",
    "1976, Jump-diffusion models, Robert Merton\n",
    "1977, Vasicek Model, Oldrich Vasicek\n",
    "1980, Grossman and Stiglitz's Information Asymmetry model, Sanford Grossman and Joseph Stiglitz\n",
    "1980, Hansen and Sargent's Uncertainty Models, Lars Hansen and Thomas Sargent\n",
    "1980s-1990s, ARCH and GARCH Models, Robert Engle\n",
    "1982, Real Business Cycle Theory, Finn Kydland and Edward Prescott\n",
    "1985, Co-integration Theory, Clive Granger\n",
    "1985, Cox-Ingersoll-Ross (CIR) model, John Cox, Jonathan Ingersoll, and Stephen Ross\n",
    "1985, New Keynesian Economics, N. Gregory Mankiw\n",
    "1986, Ho-Lee Model, Thomas Ho and Sang Bin Lee\n",
    "1988, Shiller's CAPE Ratio (Cyclically Adjusted Price-to-Earnings Ratio), Robert Shiller\n",
    "1992, Fama-French Three-Factor Model, Eugene Fama and Kenneth French\n",
    "1993, Heston Model, Steven Heston\n",
    "1993, VAR Model, Christopher Sims and Lawrence Klein\n",
    "1994, Long-term capital management (LTCM) model, Robert Merton and Myron Scholes\n",
    "1997, Dynamic Stochastic General Equilibrium (DSGE) Models, Finn Kydland and Edward Prescott\n",
    "1997, Robert Shiller, Daniel Kahneman, Amos Tversky, Richard Thaler, and others\n",
    "1999, Bernanke and Gertler's Financial Accelerator Model, Ben Bernanke and Mark Gertler\n",
    "2000, The confidence index model, Robert Shiller\n",
    "2000s-2010s, Behavioral Economics, Daniel Kahneman and Richard Thaler\n",
    "2001, Dynamic Conditional Correlation (DCC) Model, Robert Engle and Kevin Sheppard\n",
    "2003, Long-Term Capital Management (LTCM) Crisis, Robert Merton and Myron Scholes\n",
    "2003, Autoregressive Integrated Moving Average (ARIMA) Model, Robert Engle (Nobel Prize 2003)\n",
    "2003, The volatility feedback model, Robert Shiller\n",
    "2004, Vector Autoregression (VAR) Model, Christopher Sims (Nobel Prize 2011) and Lawrence Klein (Nobel Prize 1980)\n",
    "2006, Dynamic Factor Models (DFM), Finn Kydland (Nobel Prize 2004), Edward Prescott (Nobel Prize 2004), and James Stock\n",
    "2008, Bayesian Time Series Analysis, Thomas Sargent (Nobel Prize 2011)\n",
    "2011, Empirical Asset Pricing, Eugene Fama and Lars Peter Hansen\n",
    "2013, Asset Pricing Implications of Heterogeneous Beliefs, Robert Shiller\n",
    "2013, Vector Error Correction (VEC) Model, Clive Granger (Nobel Prize 2003)\n",
    "2017, The narrative economics model, Robert Shiller\n",
    "2018, Climate Change and Economic Growth, William Nordhaus\n",
    "```\n",
    "\n",
    "\n",
    "\n"
   ]
  }
 ],
 "metadata": {
  "kernelspec": {
   "display_name": "Python 3 (ipykernel)",
   "language": "python",
   "name": "python3"
  },
  "language_info": {
   "codemirror_mode": {
    "name": "ipython",
    "version": 3
   },
   "file_extension": ".py",
   "mimetype": "text/x-python",
   "name": "python",
   "nbconvert_exporter": "python",
   "pygments_lexer": "ipython3",
   "version": "3.9.7"
  }
 },
 "nbformat": 4,
 "nbformat_minor": 5
}
